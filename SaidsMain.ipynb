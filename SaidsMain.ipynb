{
 "cells": [
  {
   "cell_type": "code",
   "execution_count": 11,
   "id": "5f029c16",
   "metadata": {
    "scrolled": true
   },
   "outputs": [
    {
     "name": "stdout",
     "output_type": "stream",
     "text": [
      "parsed input parameters:\n",
      "{\n",
      "  \"input_json\": \"coco/coco_raw.json\",\n",
      "  \"num_val\": 5000,\n",
      "  \"output_json\": \"coco/cocotalk.json\",\n",
      "  \"output_h5\": \"coco/cocotalk.h5\",\n",
      "  \"max_length\": 16,\n",
      "  \"images_root\": \"coco/images\",\n",
      "  \"word_count_threshold\": 5,\n",
      "  \"num_test\": 5000\n",
      "}\n",
      "example processed tokens:\n",
      "['a', 'bathroom', 'has', 'a', 'toilet', 'and', 'a', 'sink', 'with', 'doors']\n",
      "['a', 'picture', 'of', 'a', 'street', 'sign', 'with', 'various', 'posts', 'on', 'it']\n",
      "['two', 'microwaves', 'and', 'a', 'very', 'old', 'fashioned', 'printer']\n",
      "['a', 'large', 'truck', 'parked', 'across', 'the', 'street', 'from', 'another', 'truck']\n",
      "['a', 'group', 'of', 'people', 'posing', 'for', 'a', 'wedding', 'picture']\n",
      "['the', 'street', 'sign', 'shows', 'the', 'names', 'of', 'two', 'intersecting', 'roads']\n",
      "['a', 'salad', 'in', 'a', 'plastic', 'bowl', 'sitting', 'on', 'a', 'table', 'next', 'to', 'an', 'apple']\n",
      "['a', 'couple', 'of', 'people', 'are', 'rowing', 'in', 'a', 'boat']\n",
      "['a', 'large', 'glass', 'vase', 'with', 'some', 'flowers', 'near', 'a', 'big', 'window']\n",
      "['a', 'baseball', 'player', 'pitching', 'a', 'baseball', 'during', 'a', 'game']\n",
      "top words and their counts:\n",
      "(1019751, 'a')\n",
      "(224731, 'on')\n",
      "(212678, 'of')\n",
      "(206174, 'the')\n",
      "(191657, 'in')\n",
      "(161207, 'with')\n",
      "(146580, 'and')\n",
      "(102389, 'is')\n",
      "(75939, 'man')\n",
      "(71162, 'to')\n",
      "(55186, 'sitting')\n",
      "(51985, 'an')\n",
      "(50409, 'two')\n",
      "(44503, 'at')\n",
      "(44287, 'standing')\n",
      "(43704, 'people')\n",
      "(42775, 'are')\n",
      "(38866, 'next')\n",
      "(37709, 'white')\n",
      "(35371, 'woman')\n",
      "total words: 6447836\n",
      "number of bad words: 20059/29625 = 67.71%\n",
      "number of words in vocab would be 9566\n",
      "number of UNKs: 34543/6447836 = 0.54%\n",
      "max length sentence in raw data:  49\n",
      "sentence length distribution (count, number of words):\n",
      " 0:          0   0.000000%\n",
      " 1:          0   0.000000%\n",
      " 2:          0   0.000000%\n",
      " 3:          0   0.000000%\n",
      " 4:          0   0.000000%\n",
      " 5:          1   0.000162%\n",
      " 6:         15   0.002432%\n",
      " 7:       4935   0.800140%\n",
      " 8:     102304   16.587139%\n",
      " 9:     134583   21.820720%\n",
      "10:     132573   21.494827%\n",
      "11:      94972   15.398360%\n",
      "12:      60349   9.784732%\n",
      "13:      35030   5.679616%\n",
      "14:      19933   3.231853%\n",
      "15:      11394   1.847375%\n",
      "16:       6844   1.109657%\n",
      "17:       4264   0.691347%\n",
      "18:       2730   0.442631%\n",
      "19:       1893   0.306923%\n",
      "20:       1299   0.210614%\n",
      "21:        914   0.148192%\n",
      "22:        661   0.107172%\n",
      "23:        500   0.081068%\n",
      "24:        324   0.052532%\n",
      "25:        262   0.042480%\n",
      "26:        181   0.029347%\n",
      "27:        164   0.026590%\n",
      "28:         87   0.014106%\n",
      "29:         71   0.011512%\n",
      "30:         60   0.009728%\n",
      "31:         57   0.009242%\n",
      "32:         43   0.006972%\n",
      "33:         46   0.007458%\n",
      "34:         47   0.007620%\n",
      "35:         30   0.004864%\n",
      "36:         20   0.003243%\n",
      "37:         23   0.003729%\n",
      "38:         21   0.003405%\n",
      "39:         22   0.003567%\n",
      "40:         21   0.003405%\n",
      "41:         17   0.002756%\n",
      "42:         15   0.002432%\n"
     ]
    },
    {
     "name": "stderr",
     "output_type": "stream",
     "text": [
      "Traceback (most recent call last):\n",
      "  File \"C:\\Users\\ahmet\\OneDrive\\Desktop\\neuraltalk2\\prepro.py\", line 243, in <module>\n",
      "    main(params)\n",
      "  File \"C:\\Users\\ahmet\\OneDrive\\Desktop\\neuraltalk2\\prepro.py\", line 188, in main\n",
      "    I = imread(os.path.join(params['images_root'], img['file_path']))\n",
      "  File \"C:\\Users\\ahmet\\anaconda3\\lib\\site-packages\\imageio\\v2.py\", line 200, in imread\n",
      "    with imopen(uri, \"ri\", **imopen_args) as file:\n",
      "  File \"C:\\Users\\ahmet\\anaconda3\\lib\\site-packages\\imageio\\core\\imopen.py\", line 118, in imopen\n",
      "    request = Request(uri, io_mode, format_hint=format_hint, extension=extension)\n",
      "  File \"C:\\Users\\ahmet\\anaconda3\\lib\\site-packages\\imageio\\core\\request.py\", line 248, in __init__\n",
      "    self._parse_uri(uri)\n",
      "  File \"C:\\Users\\ahmet\\anaconda3\\lib\\site-packages\\imageio\\core\\request.py\", line 407, in _parse_uri\n",
      "    raise FileNotFoundError(\"No such file: '%s'\" % fn)\n",
      "FileNotFoundError: No such file: 'C:\\Users\\ahmet\\OneDrive\\Desktop\\neuraltalk2\\coco\\images\\train2014\\COCO_train2014_000000129532.jpg'\n"
     ]
    },
    {
     "name": "stdout",
     "output_type": "stream",
     "text": [
      "43:         21   0.003405%\n",
      "44:         15   0.002432%\n",
      "45:          8   0.001297%\n",
      "46:          6   0.000973%\n",
      "47:          7   0.001135%\n",
      "48:          1   0.000162%\n",
      "49:          4   0.000649%\n",
      "inserting the special UNK token\n",
      "assigned 5000 to val, 5000 to test.\n",
      "encoded captions to array of size (616767, 16)\n"
     ]
    }
   ],
   "source": [
    "!python prepro.py --input_json coco/coco_raw.json --num_val 5000 --num_test 5000 --images_root coco/images --word_count_threshold 5 --output_json coco/cocotalk.json --output_h5 coco/cocotalk.h5\n"
   ]
  },
  {
   "cell_type": "code",
   "execution_count": 15,
   "id": "0100b7e8",
   "metadata": {},
   "outputs": [
    {
     "name": "stderr",
     "output_type": "stream",
     "text": [
      "'th' is not recognized as an internal or external command,\n",
      "operable program or batch file.\n"
     ]
    }
   ],
   "source": [
    "!th train.lua -input_h5 coco/cocotalk.h5 -input_json coco/cocotalk.json"
   ]
  },
  {
   "cell_type": "code",
   "execution_count": 14,
   "id": "afcad123",
   "metadata": {},
   "outputs": [
    {
     "name": "stdout",
     "output_type": "stream",
     "text": [
      "Collecting package metadata (current_repodata.json): ...working... done\n",
      "Solving environment: ...working... done\n",
      "\n",
      "## Package Plan ##\n",
      "\n",
      "  environment location: C:\\Users\\ahmet\\anaconda3\n",
      "\n",
      "  added / updated specs:\n",
      "    - pytorch\n",
      "    - torchvision\n",
      "\n",
      "\n",
      "The following packages will be downloaded:\n",
      "\n",
      "    package                    |            build\n",
      "    ---------------------------|-----------------\n",
      "    torchvision-0.13.1         |cpu_py39h378ed51_0         6.1 MB\n",
      "    ------------------------------------------------------------\n",
      "                                           Total:         6.1 MB\n",
      "\n",
      "The following NEW packages will be INSTALLED:\n",
      "\n",
      "  torchvision        pkgs/main/win-64::torchvision-0.13.1-cpu_py39h378ed51_0 \n",
      "\n",
      "\n",
      "\n",
      "Downloading and Extracting Packages\n",
      "\n",
      "torchvision-0.13.1   | 6.1 MB    |            |   0% \n",
      "torchvision-0.13.1   | 6.1 MB    | 4          |   5% \n",
      "torchvision-0.13.1   | 6.1 MB    | #9         |  19% \n",
      "torchvision-0.13.1   | 6.1 MB    | ###5       |  35% \n",
      "torchvision-0.13.1   | 6.1 MB    | #####1     |  51% \n",
      "torchvision-0.13.1   | 6.1 MB    | ######7    |  67% \n",
      "torchvision-0.13.1   | 6.1 MB    | ########3  |  84% \n",
      "torchvision-0.13.1   | 6.1 MB    | #########8 |  99% \n",
      "torchvision-0.13.1   | 6.1 MB    | ########## | 100% \n",
      "                                                     \n",
      "\n",
      "\n",
      "Preparing transaction: ...working... done\n",
      "Verifying transaction: ...working... done\n",
      "Executing transaction: ...working... done\n"
     ]
    }
   ],
   "source": [
    "!conda install pytorch torchvision -y"
   ]
  },
  {
   "cell_type": "code",
   "execution_count": 3,
   "id": "73f48573",
   "metadata": {},
   "outputs": [
    {
     "name": "stdout",
     "output_type": "stream",
     "text": [
      "Collecting package metadata (current_repodata.json): ...working... done\n",
      "Solving environment: ...working... done\n",
      "\n",
      "## Package Plan ##\n",
      "\n",
      "  environment location: C:\\Users\\ahmet\\anaconda3\n",
      "\n",
      "  added / updated specs:\n",
      "    - imageio\n",
      "\n",
      "\n",
      "The following packages will be downloaded:\n",
      "\n",
      "    package                    |            build\n",
      "    ---------------------------|-----------------\n",
      "    imageio-2.19.3             |   py39haa95532_0         3.3 MB\n",
      "    ------------------------------------------------------------\n",
      "                                           Total:         3.3 MB\n",
      "\n",
      "The following packages will be UPDATED:\n",
      "\n",
      "  imageio            pkgs/main/noarch::imageio-2.9.0-pyhd3~ --> pkgs/main/win-64::imageio-2.19.3-py39haa95532_0 \n",
      "\n",
      "\n",
      "\n",
      "Downloading and Extracting Packages\n",
      "\n",
      "imageio-2.19.3       | 3.3 MB    |            |   0% \n",
      "imageio-2.19.3       | 3.3 MB    | 8          |   8% \n",
      "imageio-2.19.3       | 3.3 MB    | ###9       |  39% \n",
      "imageio-2.19.3       | 3.3 MB    | #######8   |  78% \n",
      "imageio-2.19.3       | 3.3 MB    | ########## | 100% \n",
      "                                                     \n",
      "\n",
      "\n",
      "Preparing transaction: ...working... done\n",
      "Verifying transaction: ...working... done\n",
      "Executing transaction: ...working... done\n"
     ]
    }
   ],
   "source": [
    "!conda install imageio -y"
   ]
  },
  {
   "cell_type": "code",
   "execution_count": 5,
   "id": "aabf5c71",
   "metadata": {},
   "outputs": [
    {
     "name": "stdout",
     "output_type": "stream",
     "text": [
      "Collecting package metadata (current_repodata.json): ...working... done\n",
      "Solving environment: ...working... done\n",
      "\n",
      "## Package Plan ##\n",
      "\n",
      "  environment location: C:\\Users\\ahmet\\anaconda3\n",
      "\n",
      "  added / updated specs:\n",
      "    - scikit-image\n",
      "\n",
      "\n",
      "The following packages will be downloaded:\n",
      "\n",
      "    package                    |            build\n",
      "    ---------------------------|-----------------\n",
      "    scikit-image-0.19.3        |   py39hd77b12b_1        10.0 MB\n",
      "    ------------------------------------------------------------\n",
      "                                           Total:        10.0 MB\n",
      "\n",
      "The following packages will be UPDATED:\n",
      "\n",
      "  scikit-image                        0.19.2-py39hf11a4ad_0 --> 0.19.3-py39hd77b12b_1 \n",
      "\n",
      "\n",
      "\n",
      "Downloading and Extracting Packages\n",
      "\n",
      "scikit-image-0.19.3  | 10.0 MB   |            |   0% \n",
      "scikit-image-0.19.3  | 10.0 MB   | 2          |   3% \n",
      "scikit-image-0.19.3  | 10.0 MB   | #3         |  13% \n",
      "scikit-image-0.19.3  | 10.0 MB   | ##3        |  24% \n",
      "scikit-image-0.19.3  | 10.0 MB   | ###3       |  33% \n",
      "scikit-image-0.19.3  | 10.0 MB   | ####3      |  44% \n",
      "scikit-image-0.19.3  | 10.0 MB   | #####5     |  55% \n",
      "scikit-image-0.19.3  | 10.0 MB   | ######5    |  66% \n",
      "scikit-image-0.19.3  | 10.0 MB   | #######7   |  77% \n",
      "scikit-image-0.19.3  | 10.0 MB   | ########7  |  88% \n",
      "scikit-image-0.19.3  | 10.0 MB   | #########8 |  98% \n",
      "scikit-image-0.19.3  | 10.0 MB   | ########## | 100% \n",
      "                                                     \n",
      "\n",
      "\n",
      "Preparing transaction: ...working... done\n",
      "Verifying transaction: ...working... done\n",
      "Executing transaction: ...working... done\n"
     ]
    }
   ],
   "source": [
    "!conda install scikit-image -y"
   ]
  }
 ],
 "metadata": {
  "kernelspec": {
   "display_name": "Python 3 (ipykernel)",
   "language": "python",
   "name": "python3"
  },
  "language_info": {
   "codemirror_mode": {
    "name": "ipython",
    "version": 3
   },
   "file_extension": ".py",
   "mimetype": "text/x-python",
   "name": "python",
   "nbconvert_exporter": "python",
   "pygments_lexer": "ipython3",
   "version": "3.9.12"
  }
 },
 "nbformat": 4,
 "nbformat_minor": 5
}
